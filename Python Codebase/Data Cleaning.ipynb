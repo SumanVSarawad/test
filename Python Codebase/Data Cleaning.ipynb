{
 "cells": [
  {
   "cell_type": "code",
   "execution_count": 1,
   "id": "d1f4495e",
   "metadata": {
    "ExecuteTime": {
     "end_time": "2024-02-09T21:47:06.568357Z",
     "start_time": "2024-02-09T21:47:06.223401Z"
    }
   },
   "outputs": [],
   "source": [
    "import pandas as pd"
   ]
  },
  {
   "cell_type": "markdown",
   "id": "aafd79b8",
   "metadata": {},
   "source": [
    "### Load Datasets"
   ]
  },
  {
   "cell_type": "markdown",
   "id": "179bb97a",
   "metadata": {
    "ExecuteTime": {
     "end_time": "2024-02-09T18:14:10.020720Z",
     "start_time": "2024-02-09T18:14:09.977403Z"
    }
   },
   "source": [
    "#### Bitcoin Price"
   ]
  },
  {
   "cell_type": "code",
   "execution_count": 2,
   "id": "38e4e612",
   "metadata": {
    "ExecuteTime": {
     "end_time": "2024-02-09T21:47:06.599161Z",
     "start_time": "2024-02-09T21:47:06.569358Z"
    }
   },
   "outputs": [],
   "source": [
    "btc = pd.read_csv(\"../data/bitcoin/bitcoin-daily-nasdaq.csv\")\n",
    "btc['date'] = pd.to_datetime(btc['Date'], format=\"%m/%d/%y\")\n",
    "btc['btc'] = pd.to_numeric(btc['Value'])\n",
    "btc = btc[['date', 'btc']]\n",
    "btc = btc[btc['date'].dt.year >= 2013]\n",
    "btc = btc[btc['date'] <= pd.to_datetime(\"03/31/2023\", format=\"%m/%d/%Y\")]\n",
    "btc = btc.sort_values(by='date')"
   ]
  },
  {
   "cell_type": "markdown",
   "id": "aa011e09",
   "metadata": {
    "ExecuteTime": {
     "end_time": "2024-02-09T18:14:10.020720Z",
     "start_time": "2024-02-09T18:14:09.977403Z"
    }
   },
   "source": [
    "#### bitcoin hashrate and reward"
   ]
  },
  {
   "cell_type": "code",
   "execution_count": 3,
   "id": "339e0fb6",
   "metadata": {
    "ExecuteTime": {
     "end_time": "2024-02-09T21:47:06.615135Z",
     "start_time": "2024-02-09T21:47:06.601173Z"
    }
   },
   "outputs": [],
   "source": [
    "hashrate = pd.read_csv(\"../data/bitcoin/bitcoin-hashrate-reward.csv\")\n",
    "hashrate = hashrate.iloc[:,:4]\n",
    "hashrate = hashrate[hashrate['date'].notnull()]\n",
    "hashrate = hashrate.rename(columns = {\"btcreward\": \"btcReward\"})\n",
    "\n",
    "hashrate = hashrate[['date', 'hashrate', 'btcReward']]\n",
    "hashrate['date'] = pd.to_datetime(hashrate['date'])\n",
    "hashrate = hashrate.dropna().sort_values(by='date')\n",
    "hashrate = hashrate.reset_index(drop=True)"
   ]
  },
  {
   "cell_type": "markdown",
   "id": "bfebb89c",
   "metadata": {
    "ExecuteTime": {
     "end_time": "2024-02-09T18:14:10.020720Z",
     "start_time": "2024-02-09T18:14:09.977403Z"
    }
   },
   "source": [
    "#### bitcoin mining difficulty"
   ]
  },
  {
   "cell_type": "code",
   "execution_count": 4,
   "id": "ac438d26",
   "metadata": {
    "ExecuteTime": {
     "end_time": "2024-02-09T21:47:06.631143Z",
     "start_time": "2024-02-09T21:47:06.616140Z"
    }
   },
   "outputs": [],
   "source": [
    "diff = pd.read_csv(\"../data/bitcoin/bitcoin-difficulty.csv\")\n",
    "diff = diff[diff['date'].notnull()]\n",
    "diff = diff.rename(columns = {\"btcdiffera\": \"btcDiffEra\"})\n",
    "\n",
    "diff['date'] = pd.to_datetime(diff['date'], format=\"%m/%d/%y\")\n",
    "diff = diff[['date', 'difficulty', 'btcDiffEra']]\n",
    "diff['btcDiffEra'] = diff['btcDiffEra'].fillna(method='ffill')\n",
    "diff = diff.dropna(subset=['date'])"
   ]
  },
  {
   "cell_type": "markdown",
   "id": "e1eaec30",
   "metadata": {},
   "source": [
    "#### Coal Data"
   ]
  },
  {
   "cell_type": "code",
   "execution_count": 5,
   "id": "7aeb3df6",
   "metadata": {
    "ExecuteTime": {
     "end_time": "2024-02-09T21:47:06.646149Z",
     "start_time": "2024-02-09T21:47:06.632144Z"
    }
   },
   "outputs": [],
   "source": [
    "# Load Weekly Northern Appalachia Coal Price\n",
    "coal = pd.read_csv(\"../data/coal/weekly-coal-northern-appalachia.csv\")\n",
    "coal['date'] = pd.to_datetime(coal['week'], format=\"%m/%d/%y\")\n",
    "coal = coal[['date', 'price']]\n",
    "coal['coal'] = pd.to_numeric(coal['price'])"
   ]
  },
  {
   "cell_type": "markdown",
   "id": "6b41c774",
   "metadata": {
    "ExecuteTime": {
     "end_time": "2024-02-09T18:14:10.334530Z",
     "start_time": "2024-02-09T18:14:10.037448Z"
    }
   },
   "source": [
    "#### Electricity Data"
   ]
  },
  {
   "cell_type": "code",
   "execution_count": 6,
   "id": "d4324a60",
   "metadata": {
    "ExecuteTime": {
     "end_time": "2024-02-09T21:47:06.942159Z",
     "start_time": "2024-02-09T21:47:06.647282Z"
    }
   },
   "outputs": [],
   "source": [
    "# penelec\n",
    "penelec = pd.read_csv(\"../data/grid/hourly-penelec.csv\")\n",
    "penelec['date'] = pd.to_datetime(penelec['datetime_beginning_utc'], format=\"%m/%d/%y %H:%M\").dt.date.astype(\"datetime64\")\n",
    "penelec = penelec[['date', 'total_lmp_da']]\n",
    "penelec = penelec.rename(columns={'total_lmp_da': 'penelecLMP'})\n",
    "penelec = penelec.groupby('date').agg({'penelecLMP': 'mean'}).reset_index()"
   ]
  },
  {
   "cell_type": "code",
   "execution_count": 7,
   "id": "2476870b",
   "metadata": {
    "ExecuteTime": {
     "end_time": "2024-02-09T21:47:07.225860Z",
     "start_time": "2024-02-09T21:47:06.943158Z"
    }
   },
   "outputs": [],
   "source": [
    "# ppl\n",
    "ppl = pd.read_csv(\"../data/grid/hourly-ppl.csv\")\n",
    "ppl['date'] = pd.to_datetime(ppl['datetime_beginning_utc'], format='%m/%d/%y %H:%M').dt.date.astype(\"datetime64\")\n",
    "ppl = ppl[['date', 'total_lmp_da']]\n",
    "ppl.rename(columns={'total_lmp_da': 'pplLMP'}, inplace=True)\n",
    "ppl = ppl.groupby('date').agg({'pplLMP': 'mean'}).reset_index()"
   ]
  },
  {
   "cell_type": "markdown",
   "id": "c2492d5c",
   "metadata": {},
   "source": [
    "#### Temperature and rainfall data"
   ]
  },
  {
   "cell_type": "code",
   "execution_count": 8,
   "id": "86509ebc",
   "metadata": {
    "ExecuteTime": {
     "end_time": "2024-02-09T21:47:07.447067Z",
     "start_time": "2024-02-09T21:47:07.226861Z"
    }
   },
   "outputs": [],
   "source": [
    "# Get population\n",
    "pop = pd.read_csv(\"../data/weather/sumpop.csv\")\n",
    "population = pop['population'].iloc[0]\n",
    "\n",
    "# Get temperature data\n",
    "temperature = pd.DataFrame()\n",
    "\n",
    "for year in range(2013, 2024):\n",
    "    # Gridded temperature data downloaded from GEE\n",
    "    weather = pd.read_csv(f\"../data/weather/sumtemp_{year}.csv\")\n",
    "    weather = weather.T.reset_index().iloc[1:-1]\n",
    "    weather.columns = ['date', 'temp']\n",
    "    weather['date'] = pd.to_datetime(weather['date'].str.split(\"_\").str[0], format=\"%Y%m%d\")\n",
    "    weather['temp'] = weather['temp'].astype(float)\n",
    "    weather['temp'] = weather['temp'] / population - 273.15\n",
    "    temperature = pd.concat([temperature, weather])\n",
    "\n",
    "temperature = temperature.reset_index(drop=True)\n",
    "\n",
    "# Define an empty DataFrame to store rainfall data\n",
    "rainfall = pd.DataFrame()\n",
    "\n",
    "# Iterate over years from 2013 to 2023\n",
    "for year in range(2013, 2024):\n",
    "    # Read gridded precipitation data downloaded from GEE\n",
    "    weather = pd.read_csv(f\"../data/weather/sumprecip_{year}.csv\")\n",
    "    weather = weather.T.reset_index().iloc[1:-1]\n",
    "    weather.columns = ['date', 'precip']\n",
    "    weather['date'] = pd.to_datetime(weather['date'].str.split(\"_\").str[0], format=\"%Y%m%d\")\n",
    "    weather['precip'] = weather['precip'].astype(float)\n",
    "\n",
    "    # Convert date format and adjust precipitation by population\n",
    "    weather['precip'] = weather['precip'] / population * 1000\n",
    "    \n",
    "    # Append weather data to the rainfall DataFrame\n",
    "    rainfall = pd.concat([rainfall, weather])\n",
    "\n",
    "# Reset index of the DataFrame\n",
    "rainfall.reset_index(drop=True, inplace=True)"
   ]
  },
  {
   "cell_type": "markdown",
   "id": "bd100930",
   "metadata": {},
   "source": [
    "#### Daily emissions data"
   ]
  },
  {
   "cell_type": "code",
   "execution_count": 9,
   "id": "b36fdb9a",
   "metadata": {
    "ExecuteTime": {
     "end_time": "2024-02-09T21:47:07.492430Z",
     "start_time": "2024-02-09T21:47:07.449071Z"
    }
   },
   "outputs": [],
   "source": [
    "# Load Data\n",
    "scrub = pd.read_csv(\"../data/emissions/daily-emissions-scrubgrass.csv\")\n",
    "\n",
    "# Select relevant columns and rename them\n",
    "scrub = scrub[['Date', 'Heat Input (mmBtu)', 'Steam Load (1000 lb)', 'CO2 Mass (short tons)',\n",
    "               'SO2 Mass (short tons)', 'NOx Mass (short tons)']]\n",
    "scrub.columns = ['date', 'heatInput', 'load', 'co2Mass', 'so2Mass', 'noxMass']\n",
    "\n",
    "# Convert date column to datetime format\n",
    "scrub['date'] = pd.to_datetime(scrub['date'], format=\"%m/%d/%y\")\n",
    "\n",
    "# Filter data for years >= 2013\n",
    "scrub = scrub[scrub['date'].dt.year >= 2013]\n",
    "\n",
    "# Fill missing values with 0\n",
    "scrub.fillna(0, inplace=True)\n",
    "\n",
    "# Convert units\n",
    "scrub['heatInput'] *= 10**6\n",
    "scrub['load'] *= 1000 * 8491 * 1/24 * 0.000293\n",
    "scrub['co2Mass'] *= 0.907185\n",
    "scrub['so2Mass'] *= 0.907185\n",
    "scrub['noxMass'] *= 0.907185"
   ]
  },
  {
   "cell_type": "code",
   "execution_count": 10,
   "id": "014ad8bc",
   "metadata": {
    "ExecuteTime": {
     "end_time": "2024-02-09T21:47:07.523635Z",
     "start_time": "2024-02-09T21:47:07.493469Z"
    }
   },
   "outputs": [],
   "source": [
    "# Load Panther Data\n",
    "panther = pd.read_csv(\"../data/emissions/daily-emissions-panther.csv\")\n",
    "panther = panther[['Date', 'Steam Load (1000 lb)']]\n",
    "panther.columns = ['date', 'loadPanther']\n",
    "panther['date'] = pd.to_datetime(panther['date'], format=\"%m/%d/%y\")\n",
    "panther = panther[panther['date'].dt.year >= 2013]\n",
    "panther['loadPanther'] = panther['loadPanther'].fillna(0)\n",
    "panther['loadPanther'] = panther['loadPanther'] * 1000 * 8491 * 1/24 * 0.000293"
   ]
  },
  {
   "cell_type": "code",
   "execution_count": 11,
   "id": "52dca8ca",
   "metadata": {
    "ExecuteTime": {
     "end_time": "2024-02-09T21:47:07.601139Z",
     "start_time": "2024-02-09T21:47:07.524640Z"
    }
   },
   "outputs": [],
   "source": [
    "# Load Data for Other Waste Coal\n",
    "penn = pd.read_csv(\"../data/emissions/daily-emissions-PA-waste.csv\")\n",
    "penn = penn[['Facility Name', 'Date', 'Gross Load (MWh)', 'Steam Load (1000 lb)', 'CO2 Mass (short tons)']]\n",
    "penn.columns = ['plant', 'date', 'load', 'loadSteam', 'co2Mass']\n",
    "penn['date'] = pd.to_datetime(penn['date'], format=\"%m/%d/%y\")\n",
    "penn = penn[penn['date'].dt.year >= 2013]\n",
    "penn['loadSteam'] = penn['loadSteam'] * 1000 * 8491 * 1/24 * 0.000293\n",
    "penn['load'] = penn['load'].fillna(penn['loadSteam'])\n",
    "penn['load'] = penn['load'].fillna(0)\n",
    "penn['co2Mass'] = penn['co2Mass'].fillna(0)\n",
    "penn['co2Mass'] = penn['co2Mass'] * 0.907185\n",
    "\n",
    "# Rename plants and select relevant columns\n",
    "penn['plant'] = penn['plant'].replace({\n",
    "    'Gilberton Power Company': 'Gilberton',\n",
    "    'Cambria Cogen': 'Cambria',\n",
    "    'Colver Green Energy': 'Colver',\n",
    "    'Mt. Carmel Cogeneration': 'MtCarmel',\n",
    "    'St. Nicholas Cogeneration Project': 'StNicholas',\n",
    "    'Northampton Generating Plant': 'Northampton'\n",
    "})\n",
    "\n",
    "penn = penn[['plant', 'date', 'load', 'co2Mass']]\n",
    "\n",
    "penn = penn.set_index(['date', 'plant']).unstack('plant')\n",
    "penn.columns = penn.columns.map(''.join)"
   ]
  },
  {
   "cell_type": "markdown",
   "id": "2a2634d5",
   "metadata": {
    "ExecuteTime": {
     "end_time": "2024-02-09T18:14:10.020720Z",
     "start_time": "2024-02-09T18:14:09.977403Z"
    }
   },
   "source": [
    "#### Combine BTC Data"
   ]
  },
  {
   "cell_type": "code",
   "execution_count": 12,
   "id": "1f7db1d0",
   "metadata": {
    "ExecuteTime": {
     "end_time": "2024-02-09T21:47:07.616136Z",
     "start_time": "2024-02-09T21:47:07.602138Z"
    }
   },
   "outputs": [],
   "source": [
    "data = btc.merge(hashrate, how='left', on='date')\n",
    "data = data.merge(diff, how='left', on='date')"
   ]
  },
  {
   "cell_type": "code",
   "execution_count": 13,
   "id": "5a88b968",
   "metadata": {
    "ExecuteTime": {
     "end_time": "2024-02-09T21:47:07.647162Z",
     "start_time": "2024-02-09T21:47:07.617147Z"
    }
   },
   "outputs": [],
   "source": [
    "# Calculate Approximate BTC Reward per MWh\n",
    "minerCap = 28.31\n",
    "\n",
    "# Calculate MWh required to mine 1 BTC under current network difficulty\n",
    "data['mWhPerBTC'] = data['hashrate'] * (1 / (data['btcReward'] * 52560)) * (1 / (minerCap * 1000)) * 24 * 365\n",
    "\n",
    "# Calculate $ per MWh from Bitcoin mining\n",
    "data['revPerMWhBTC'] = data['btc'] / data['mWhPerBTC']\n",
    "\n",
    "# Merge with Main Data\n",
    "data = data.merge(coal, how='left', on='date')\n",
    "data['coal'] = data['coal'].fillna(method='ffill')\n",
    "data['coalLag'] = data['coal'].shift(91)\n",
    "\n",
    "# Estimate Cost of Generating Electricity\n",
    "data['costMWh'] = ((((data['coal'] / 83.00)-1)*0.78)+1) * 47.50\n",
    "data['costMWhLag'] = ((((data['coalLag'] / 209.70)-1)*0.78)+1) * 47.50\n",
    "\n",
    "data = data.merge(penelec, how='left', on='date')\n",
    "data = data.merge(ppl, how='left', on='date')\n",
    "\n",
    "# Mean PENELEC / PPL\n",
    "data['paLMP'] = (data['penelecLMP'] + data['pplLMP']) / 2\n",
    "\n",
    "# Calculate deciles\n",
    "data['paLMPQuantile'] = pd.qcut(data['paLMP'], q=10, labels=False)\n",
    "\n",
    "weather = temperature.merge(rainfall, on='date', how='left')\n",
    "\n",
    "data = data.merge(weather, on='date', how='left')"
   ]
  },
  {
   "cell_type": "code",
   "execution_count": 14,
   "id": "4d9d2ec8",
   "metadata": {
    "ExecuteTime": {
     "end_time": "2024-02-09T21:47:07.663158Z",
     "start_time": "2024-02-09T21:47:07.648162Z"
    }
   },
   "outputs": [],
   "source": [
    "# Estimation of Scrubgrass Behavior -------------------------------------------------------\n",
    "\n",
    "# 1) if LMP < estimated net cost of power : MOSTLY BUY FROM GRID \n",
    "## 2a) if BTC revenue per MWh > LMP > net cost of power: ONLY MINE BTC \n",
    "## 2b) if LMP > BTC revenue per MWh > net cost of power: MIX OF MINE AND SELL TO GRID \n"
   ]
  },
  {
   "cell_type": "code",
   "execution_count": 15,
   "id": "2526caab",
   "metadata": {
    "ExecuteTime": {
     "end_time": "2024-02-09T21:47:07.678343Z",
     "start_time": "2024-02-09T21:47:07.664229Z"
    }
   },
   "outputs": [],
   "source": [
    "data['dummyBuy'] = 0\n",
    "data.loc[(data['paLMP'] < data['costMWh']), \"dummyBuy\"] = 1\n",
    "\n",
    "data['dummySell'] = 0\n",
    "data.loc[(data['paLMP'] < data['revPerMWhBTC']), \"dummyBuy\"] = 1"
   ]
  },
  {
   "cell_type": "code",
   "execution_count": 16,
   "id": "e5bf6d8e",
   "metadata": {
    "ExecuteTime": {
     "end_time": "2024-02-09T21:47:07.693900Z",
     "start_time": "2024-02-09T21:47:07.679345Z"
    }
   },
   "outputs": [],
   "source": [
    "# Merge to final data\n",
    "data = pd.merge(data, scrub, on='date', how='left')\n",
    "data = data.merge(panther, how='left', on='date')\n",
    "data = data.merge(penn, how='left', on='date')\n",
    "\n",
    "# Add year, month, and day of week columns\n",
    "data['year'] = data['date'].dt.year\n",
    "data['month'] = data['date'].dt.month\n",
    "data['dow'] = data['date'].dt.dayofweek + 1  # Adding 1 to match R's wday function which returns 1 for Sunday\n",
    "\n",
    "# Select relevant columns\n",
    "data = data[['date', 'year', 'month', 'dow', 'btc', 'hashrate', 'btcReward', 'difficulty', 'btcDiffEra',\n",
    "             'mWhPerBTC', 'revPerMWhBTC', 'coal', 'coalLag', 'costMWh', 'costMWhLag', 'paLMP', 'paLMPQuantile',\n",
    "             'dummyBuy', 'dummySell', 'temp', 'precip', 'heatInput', 'load', 'co2Mass', 'so2Mass', 'noxMass',\n",
    "             'loadPanther', 'loadCambria', 'co2MassCambria', 'loadColver', 'co2MassColver', 'loadGilberton',\n",
    "             'co2MassGilberton', 'loadMtCarmel', 'co2MassMtCarmel', 'loadStNicholas', 'co2MassStNicholas',\n",
    "             'loadNorthampton', 'co2MassNorthampton']]"
   ]
  },
  {
   "cell_type": "markdown",
   "id": "80d9d2fc",
   "metadata": {},
   "source": [
    "### Write data to csv"
   ]
  },
  {
   "cell_type": "code",
   "execution_count": 17,
   "id": "3fc23704",
   "metadata": {
    "ExecuteTime": {
     "end_time": "2024-02-09T21:47:07.788427Z",
     "start_time": "2024-02-09T21:47:07.693900Z"
    }
   },
   "outputs": [],
   "source": [
    "data.to_csv(\"../data/processed/00_data.csv\", index=False)"
   ]
  },
  {
   "cell_type": "code",
   "execution_count": 18,
   "id": "2c15fdb1",
   "metadata": {
    "ExecuteTime": {
     "end_time": "2024-02-09T21:47:07.819135Z",
     "start_time": "2024-02-09T21:47:07.789439Z"
    }
   },
   "outputs": [
    {
     "data": {
      "text/html": [
       "<div>\n",
       "<style scoped>\n",
       "    .dataframe tbody tr th:only-of-type {\n",
       "        vertical-align: middle;\n",
       "    }\n",
       "\n",
       "    .dataframe tbody tr th {\n",
       "        vertical-align: top;\n",
       "    }\n",
       "\n",
       "    .dataframe thead th {\n",
       "        text-align: right;\n",
       "    }\n",
       "</style>\n",
       "<table border=\"1\" class=\"dataframe\">\n",
       "  <thead>\n",
       "    <tr style=\"text-align: right;\">\n",
       "      <th></th>\n",
       "      <th>date</th>\n",
       "      <th>year</th>\n",
       "      <th>month</th>\n",
       "      <th>dow</th>\n",
       "      <th>btc</th>\n",
       "      <th>hashrate</th>\n",
       "      <th>btcReward</th>\n",
       "      <th>difficulty</th>\n",
       "      <th>btcDiffEra</th>\n",
       "      <th>mWhPerBTC</th>\n",
       "      <th>...</th>\n",
       "      <th>loadColver</th>\n",
       "      <th>co2MassColver</th>\n",
       "      <th>loadGilberton</th>\n",
       "      <th>co2MassGilberton</th>\n",
       "      <th>loadMtCarmel</th>\n",
       "      <th>co2MassMtCarmel</th>\n",
       "      <th>loadStNicholas</th>\n",
       "      <th>co2MassStNicholas</th>\n",
       "      <th>loadNorthampton</th>\n",
       "      <th>co2MassNorthampton</th>\n",
       "    </tr>\n",
       "  </thead>\n",
       "  <tbody>\n",
       "    <tr>\n",
       "      <th>0</th>\n",
       "      <td>2013-01-01</td>\n",
       "      <td>2013</td>\n",
       "      <td>1</td>\n",
       "      <td>2</td>\n",
       "      <td>13.400</td>\n",
       "      <td>23.106492</td>\n",
       "      <td>25.0</td>\n",
       "      <td>2979636.617</td>\n",
       "      <td>1.0</td>\n",
       "      <td>0.000005</td>\n",
       "      <td>...</td>\n",
       "      <td>2982.0</td>\n",
       "      <td>0.0</td>\n",
       "      <td>1.945509e+06</td>\n",
       "      <td>2613.509267</td>\n",
       "      <td>851.0</td>\n",
       "      <td>1341.817333</td>\n",
       "      <td>1.824537e+06</td>\n",
       "      <td>3464.630234</td>\n",
       "      <td>2625.0</td>\n",
       "      <td>2853.368981</td>\n",
       "    </tr>\n",
       "    <tr>\n",
       "      <th>1</th>\n",
       "      <td>2013-01-02</td>\n",
       "      <td>2013</td>\n",
       "      <td>1</td>\n",
       "      <td>3</td>\n",
       "      <td>13.464</td>\n",
       "      <td>23.698966</td>\n",
       "      <td>25.0</td>\n",
       "      <td>2979636.617</td>\n",
       "      <td>1.0</td>\n",
       "      <td>0.000006</td>\n",
       "      <td>...</td>\n",
       "      <td>2898.0</td>\n",
       "      <td>0.0</td>\n",
       "      <td>1.946234e+06</td>\n",
       "      <td>2638.366136</td>\n",
       "      <td>824.0</td>\n",
       "      <td>1284.211086</td>\n",
       "      <td>1.841019e+06</td>\n",
       "      <td>3492.208658</td>\n",
       "      <td>2681.0</td>\n",
       "      <td>2957.785974</td>\n",
       "    </tr>\n",
       "  </tbody>\n",
       "</table>\n",
       "<p>2 rows × 39 columns</p>\n",
       "</div>"
      ],
      "text/plain": [
       "        date  year  month  dow     btc   hashrate  btcReward   difficulty  \\\n",
       "0 2013-01-01  2013      1    2  13.400  23.106492       25.0  2979636.617   \n",
       "1 2013-01-02  2013      1    3  13.464  23.698966       25.0  2979636.617   \n",
       "\n",
       "   btcDiffEra  mWhPerBTC  ...  loadColver  co2MassColver  loadGilberton  \\\n",
       "0         1.0   0.000005  ...      2982.0            0.0   1.945509e+06   \n",
       "1         1.0   0.000006  ...      2898.0            0.0   1.946234e+06   \n",
       "\n",
       "   co2MassGilberton  loadMtCarmel  co2MassMtCarmel  loadStNicholas  \\\n",
       "0       2613.509267         851.0      1341.817333    1.824537e+06   \n",
       "1       2638.366136         824.0      1284.211086    1.841019e+06   \n",
       "\n",
       "   co2MassStNicholas  loadNorthampton  co2MassNorthampton  \n",
       "0        3464.630234           2625.0         2853.368981  \n",
       "1        3492.208658           2681.0         2957.785974  \n",
       "\n",
       "[2 rows x 39 columns]"
      ]
     },
     "execution_count": 18,
     "metadata": {},
     "output_type": "execute_result"
    }
   ],
   "source": [
    "data.head(2)"
   ]
  }
 ],
 "metadata": {
  "kernelspec": {
   "display_name": "Python 3 (ipykernel)",
   "language": "python",
   "name": "python3"
  },
  "language_info": {
   "codemirror_mode": {
    "name": "ipython",
    "version": 3
   },
   "file_extension": ".py",
   "mimetype": "text/x-python",
   "name": "python",
   "nbconvert_exporter": "python",
   "pygments_lexer": "ipython3",
   "version": "3.9.7"
  }
 },
 "nbformat": 4,
 "nbformat_minor": 5
}
