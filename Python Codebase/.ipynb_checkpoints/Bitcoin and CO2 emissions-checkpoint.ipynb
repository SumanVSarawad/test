{
 "cells": [
  {
   "cell_type": "code",
   "execution_count": 41,
   "id": "51f9f1d0",
   "metadata": {
    "ExecuteTime": {
     "end_time": "2024-02-10T20:32:52.014110Z",
     "start_time": "2024-02-10T20:32:52.012093Z"
    }
   },
   "outputs": [],
   "source": [
    "import pandas as pd\n",
    "import numpy as np\n",
    "import matplotlib.pyplot as plt\n",
    "import seaborn as sns"
   ]
  },
  {
   "cell_type": "markdown",
   "id": "290b33f0",
   "metadata": {},
   "source": [
    "### Coal Power Plant Data"
   ]
  },
  {
   "cell_type": "code",
   "execution_count": 42,
   "id": "4550e222",
   "metadata": {
    "ExecuteTime": {
     "end_time": "2024-02-10T20:32:52.045405Z",
     "start_time": "2024-02-10T20:32:52.015111Z"
    }
   },
   "outputs": [],
   "source": [
    "import pandas as pd\n",
    "\n",
    "# Read coal type data\n",
    "coal_type = pd.read_csv(\"../data/other/coal-type.csv\")\n",
    "\n",
    "# Read 2012 coal emissions data\n",
    "coal_2012 = pd.read_csv(\"../data/annual_emissions/annual-emissions-2012-coal.csv\")\n",
    "\n",
    "# Merge with coal type data\n",
    "coal_2012 = pd.merge(coal_2012, coal_type, how=\"left\")\n",
    "\n",
    "coal_2012 = coal_2012.rename(columns = {'State': 'state',\n",
    " 'Facility Name': 'name',\n",
    " 'Facility ID': 'id',\n",
    " 'Heat Input (mmBtu)': 'heatInput',\n",
    " 'Gross Load (MWh)': 'grossLoad',\n",
    " 'Steam Load (1000 lb)': 'steamLoad',\n",
    " 'SO2 Mass (short tons)': 'so2Mass',\n",
    " 'CO2 Mass (short tons)': 'co2Mass',\n",
    " 'NOx Mass (short tons)': 'noxMass',\n",
    " 'Fuel Type': 'coalType',\n",
    " 'Energy': 'energy',\n",
    " 'Year': 'year',\n",
    "})\n",
    "\n",
    "# Select relevant columns and convert units\n",
    "coal_2012 = coal_2012[['state', 'name', 'id', 'year', 'heatInput', 'grossLoad', 'steamLoad', 'so2Mass',\n",
    "                       'co2Mass', 'noxMass',  'coalType', 'energy']]\n",
    "\n",
    "coal_2012['steamInd'] = (~coal_2012['steamLoad'].isna()) & (coal_2012['grossLoad'].isna())\n",
    "coal_2012['energyConvert'] = coal_2012.apply(lambda x: x['energy'] if x['steamInd'] and not pd.isna(x['energy']) else (9845 if x['steamInd'] and pd.isna(x['energy']) else pd.NA), axis=1)\n",
    "coal_2012['heatInput'] = coal_2012['heatInput'] * 10**6\n",
    "coal_2012['grossLoad'] = coal_2012['grossLoad'] * 10**3\n",
    "coal_2012['steamLoad'] = coal_2012['steamLoad'] * 1000 * 1/24 * coal_2012['energyConvert'] * 0.000293\n",
    "coal_2012['load'] = coal_2012.apply(lambda x: x['steamLoad'] if pd.isna(x['grossLoad']) else x['grossLoad'], axis=1)\n",
    "coal_2012['co2Mass'] = coal_2012['co2Mass'] * 0.907185 * 1000\n",
    "coal_2012['so2Mass'] = coal_2012['so2Mass'] * 0.907185 * 1000\n",
    "coal_2012['noxMass'] = coal_2012['noxMass'] * 0.907185 * 1000\n",
    "coal_2012['heatRate'] = coal_2012['heatInput'] / coal_2012['load']\n",
    "coal_2012['co2Rate'] = coal_2012['co2Mass'] / coal_2012['load']\n",
    "\n",
    "coal_2012 = coal_2012[['state', 'name', 'id', 'heatRate', 'co2Rate']]\n",
    "coal_2012 = coal_2012.dropna(subset=['heatRate', 'co2Rate'])"
   ]
  },
  {
   "cell_type": "code",
   "execution_count": 43,
   "id": "d6a6a038",
   "metadata": {
    "ExecuteTime": {
     "end_time": "2024-02-10T20:32:52.077038Z",
     "start_time": "2024-02-10T20:32:52.046407Z"
    }
   },
   "outputs": [],
   "source": [
    "# Read 2022 coal emissions data\n",
    "coal_2022 = pd.read_csv(\"../data/annual_emissions/annual-emissions-2022-coal.csv\")\n",
    "\n",
    "# Merge with coal type data\n",
    "coal_2022 = pd.merge(coal_2022, coal_type, how=\"left\")\n",
    "\n",
    "coal_2022 = coal_2022.rename(columns = {'State': 'state',\n",
    " 'Facility Name': 'name',\n",
    " 'Facility ID': 'id',\n",
    " 'Heat Input (mmBtu)': 'heatInput',\n",
    " 'Gross Load (MWh)': 'grossLoad',\n",
    " 'Steam Load (1000 lb)': 'steamLoad',\n",
    " 'SO2 Mass (short tons)': 'so2Mass',\n",
    " 'CO2 Mass (short tons)': 'co2Mass',\n",
    " 'NOx Mass (short tons)': 'noxMass',\n",
    " 'Fuel Type': 'coalType',\n",
    " 'Energy': 'energy',\n",
    " 'Year': 'year',\n",
    "})\n",
    "\n",
    "# Select relevant columns and convert units\n",
    "coal_2022 = coal_2022[['state', 'name', 'id', 'year', 'heatInput', 'grossLoad', 'steamLoad', 'so2Mass',\n",
    "                       'co2Mass', 'noxMass',  'coalType', 'energy']]\n",
    "\n",
    "coal_2022['steamInd'] = (~coal_2022['steamLoad'].isna()) & (coal_2022['grossLoad'].isna())\n",
    "coal_2022['energyConvert'] = coal_2022.apply(lambda x: x['energy'] if x['steamInd'] and not pd.isna(x['energy']) else (9845 if x['steamInd'] and pd.isna(x['energy']) else pd.NA), axis=1)\n",
    "coal_2022['heatInput'] = coal_2022['heatInput'] * 10**6\n",
    "coal_2022['grossLoad'] = coal_2022['grossLoad'] * 10**3\n",
    "coal_2022['steamLoad'] = coal_2022['steamLoad'] * 1000 * 1/24 * coal_2022['energyConvert'] * 0.000293\n",
    "coal_2022['load'] = coal_2022.apply(lambda x: x['steamLoad'] if pd.isna(x['grossLoad']) else x['grossLoad'], axis=1)\n",
    "coal_2022['co2Mass'] = coal_2022['co2Mass'] * 0.907185 * 1000\n",
    "coal_2022['so2Mass'] = coal_2022['so2Mass'] * 0.907185 * 1000\n",
    "coal_2022['noxMass'] = coal_2022['noxMass'] * 0.907185 * 1000\n",
    "coal_2022['heatRate'] = coal_2022['heatInput'] / coal_2022['load']\n",
    "coal_2022['co2Rate'] = coal_2022['co2Mass'] / coal_2022['load']\n",
    "coal_2022 = coal_2022.dropna(subset=['heatRate', 'co2Rate'])\n",
    "\n",
    "# Combine the data\n",
    "coal = pd.merge(coal_2012, coal_2022, on='id', suffixes=('2012', '2022'))"
   ]
  },
  {
   "cell_type": "code",
   "execution_count": 44,
   "id": "c22f6a2e",
   "metadata": {
    "ExecuteTime": {
     "end_time": "2024-02-10T20:32:52.651739Z",
     "start_time": "2024-02-10T20:32:52.643648Z"
    }
   },
   "outputs": [],
   "source": [
    "# Clean up\n",
    "del coal_2012, coal_2022, coal_type"
   ]
  },
  {
   "cell_type": "code",
   "execution_count": null,
   "id": "2be53cb3",
   "metadata": {},
   "outputs": [],
   "source": []
  },
  {
   "cell_type": "code",
   "execution_count": 45,
   "id": "52b12b76",
   "metadata": {
    "ExecuteTime": {
     "end_time": "2024-02-10T20:32:53.162619Z",
     "start_time": "2024-02-10T20:32:53.148285Z"
    }
   },
   "outputs": [],
   "source": [
    "# Read ripe for retirement full data\n",
    "rfr_full = pd.read_csv(\"../data/ripe_for_retirement/ripe-for-retirement-with-facility-id-high.csv\")\n",
    "rfr_full = rfr_full[['state', 'id']].assign(rfrFull=1).dropna(subset=['id'])\n",
    "\n",
    "# Read ripe for retirement short data\n",
    "rfr_short = pd.read_csv(\"../data/ripe_for_retirement/ripe-for-retirement-with-facility-id-low.csv\")\n",
    "rfr_short = rfr_short[['state', 'id']].assign(rfrShort=1).dropna(subset=['id'])\n",
    "\n",
    "# Merge ripe for retirement data\n",
    "rfr = pd.merge(rfr_full, rfr_short, on='id', how='left')\n",
    "\n",
    "# Merge coal and ripe for retirement data\n",
    "data = pd.merge(coal, rfr, on='id', how='left')\n",
    "\n",
    "# Calculate retired indicator\n",
    "data['retiredInd'] = data['heatRate2022'].isna() & data['co2Rate2022'].isna()\n",
    "\n",
    "# Fill missing values and calculate retirement status\n",
    "data['rfrFull'].fillna(0, inplace=True)\n",
    "data['rfrShort'].fillna(0, inplace=True)\n",
    "dataRfr = data[data['rfrFull'] == 1]\n",
    "dataRfr['retired'] = dataRfr['retiredInd'].apply(lambda x: \"Retired\" if x else \"Active\")"
   ]
  },
  {
   "cell_type": "code",
   "execution_count": 50,
   "id": "f0c0c8d1",
   "metadata": {
    "ExecuteTime": {
     "end_time": "2024-02-10T20:33:01.055813Z",
     "start_time": "2024-02-10T20:33:00.516875Z"
    }
   },
   "outputs": [
    {
     "name": "stderr",
     "output_type": "stream",
     "text": [
      "No handles with labels found to put in legend.\n",
      "No handles with labels found to put in legend.\n"
     ]
    },
    {
     "data": {
      "image/png": "[encoded data removed]",
      "text/plain": [
       "<Figure size 864x432 with 2 Axes>"
      ]
     },
     "metadata": {
      "needs_background": "light"
     },
     "output_type": "display_data"
    }
   ],
   "source": [
    "# Plotting\n",
    "colors = {\"Retired\": \"#CC6677\", \"Active\": \"#44AA99\", \"Scrubgrass\": \"#117733\"}\n",
    "\n",
    "plt.figure(figsize=(12, 6))\n",
    "\n",
    "plt.subplot(1, 2, 1)\n",
    "sns.histplot(dataRfr, x='heatRate2012', hue='retired', multiple='stack', palette=colors.values())\n",
    "plt.axvline(x=15374.51, linestyle='--', color='k')\n",
    "plt.xlabel(\"Heat Rate (Btu / kWh)\")\n",
    "plt.ylabel(\"Count\")\n",
    "plt.xlim(7500, 22500)\n",
    "plt.legend(title=\"Retirement Status\", loc=\"lower right\", fontsize=12, title_fontsize=16)\n",
    "\n",
    "plt.subplot(1, 2, 2)\n",
    "sns.histplot(dataRfr, x='co2Rate2012', hue='retired', multiple='stack', palette=colors.values())\n",
    "plt.axvline(x=1.393182, linestyle='--', color='k')\n",
    "plt.xlabel(\"Carbon Intensity (kg CO2 per kWh)\")\n",
    "plt.ylabel(\"\")\n",
    "plt.xlim(0.5, 2)\n",
    "plt.legend(title=\"Retirement Status\", loc=\"lower right\", fontsize=12, title_fontsize=16)\n",
    "\n",
    "plt.tight_layout()\n",
    "plt.savefig(\"../output/04_ripe_for_retirement04_rfr_distribution.png\", dpi=300)\n",
    "plt.show()"
   ]
  },
  {
   "cell_type": "code",
   "execution_count": null,
   "id": "00f9f8f8",
   "metadata": {},
   "outputs": [],
   "source": []
  }
 ],
 "metadata": {
  "kernelspec": {
   "display_name": "Python 3 (ipykernel)",
   "language": "python",
   "name": "python3"
  },
  "language_info": {
   "codemirror_mode": {
    "name": "ipython",
    "version": 3
   },
   "file_extension": ".py",
   "mimetype": "text/x-python",
   "name": "python",
   "nbconvert_exporter": "python",
   "pygments_lexer": "ipython3",
   "version": "3.9.7"
  }
 },
 "nbformat": 4,
 "nbformat_minor": 5
}
